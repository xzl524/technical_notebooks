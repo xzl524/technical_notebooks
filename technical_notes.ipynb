{
 "cells": [
  {
   "cell_type": "markdown",
   "metadata": {},
   "source": [
    "### [项目列表](#new_projects)\n",
    "\n",
    "### [人工智能笔记](#notes)\n",
    "\n",
    "* [1 因果模型](#casual_model)\n",
    "    * [1.1 基本概念](#casual_basic)\n",
    "    * [1.2 确定网络结构](#structure)\n",
    "    * [1.3 确定条件概率表](#cpt)\n",
    "    * [1.4 通过观察进行预测](#inference)\n",
    "    * [1.5 通过观察预测干预效果](#intervention)\n",
    "\n",
    "* [2 统计模型：监督学习](#supervised)\n",
    "     * [2.1 模型评估](#metrics)\n",
    "     * [2.2 经验总结](#best_practice) \n",
    "     * [2.3 神经网络](#nn)\n",
    "\n",
    "* [3 数据探索](#explore)\n",
    "    * [3.1 数据库基础](#database)\n",
    "    * [3.2 探索性数据分析](#eda)\n",
    "\n",
    "### [Python练习](#python)\n",
    "* [1 Python基础](#python基础)\n",
    "    * [1.1 .format()](#format)\n",
    "    * [1.2 字符串](#string)\n",
    "    * [1.3 元祖](#tuple)\n",
    "    * [1.4 列表](#list)\n",
    "    * [1.5 集合](#set)\n",
    "    * [1.6 字典](#dict)\n",
    "    * [1.7 运算符](#op)\n",
    "    * [1.8 for循环](#for)\n",
    "    * [1.9 datetime](#datetime)\n",
    "    * [1.10 sort](#sort)\n",
    "    * [1.11 函数](#function)\n",
    "    * [1.12 文件操作](#file)\n",
    "* [2 编程例题](#program)\n",
    "    * [2.1 求解套路](#patterns)\n",
    "    * [2.2 求解示例](#example)"
   ]
  },
  {
   "cell_type": "markdown",
   "metadata": {},
   "source": [
    "## <a id='new_projects'></a>待办事项"
   ]
  },
  {
   "cell_type": "markdown",
   "metadata": {},
   "source": [
    "* 因果推断\n",
    "    * 预测足球比赛结果\n",
    "    * 利用因果关系分析预测中国队何时能再进世界杯。变量：人口（足球人口）， GDP，文化等等。\n",
    "* 利用因果模型重新解释足球数据分析\n",
    "* 因果学习\n",
    "* 进一步应用博弈论分析点球（Professional Play Minimax）：分为左中右三个方向进行讨论。射门方向（由守门员这一侧确定）分布为：左32%，中29%，右39%。守门员扑救方向分布为：左49%，中6%中，右44%。\n",
    "* 如何分析防守？"
   ]
  },
  {
   "cell_type": "markdown",
   "metadata": {},
   "source": [
    "### 物理因果关系\n",
    "\n",
    "* 牛顿第二定律：F=ma"
   ]
  },
  {
   "cell_type": "markdown",
   "metadata": {},
   "source": [
    "### To Explain or to Predict?\n",
    "_Galit Shmueli, Statitiscal Science, 2010, Vol. 25, No. 3, 289–310_\n",
    "\n",
    "Topic: distinction between explanatory and predictive modeling and its sources\n",
    "\n",
    "Explanatory modeling: use of statistical models for testing causal explanations \n",
    "* Most commonly used: regression models. The justification is that the theory itself provides the causality\n",
    "* “Proper” statistical methodology\n",
    "    * designed experiments\n",
    "    * causal inference methods (causal diagrams, discovery algorithms)\n",
    "* minimize bias\n",
    "\n",
    "Predictive modeling: applying a statistical model or data mining algorithm to data\n",
    "* minimize the combination of bias and estimation variance, occasionally sacrificing theoretical accuracy for improved empirical precision\n",
    "* scientific value\n",
    "    * uncover potential new causal mechanisms\n",
    "    * discover new measures\n",
    "    * suggest improvements to existing explanatory models\n",
    "    * enable assessing the distance between theory and practice\n",
    "    \n",
    "Why difference between explaining and predicting?\n",
    "* measurable data are not accurate representations of their underlying constructs\n",
    "\n",
    "Descriptive modeling: summarizing or representing the data structure in a compact manner\n",
    "* Fitting a regression model can be descriptive if it is used for capturing the association between the dependent and independent variables rather than for causal inference or for prediction"
   ]
  },
  {
   "cell_type": "markdown",
   "metadata": {},
   "source": [
    "# <a id='notes'></a>人工智能笔记"
   ]
  },
  {
   "cell_type": "markdown",
   "metadata": {},
   "source": [
    "## <a id='casual_model'></a>1. 因果模型"
   ]
  },
  {
   "cell_type": "markdown",
   "metadata": {},
   "source": [
    "### <a id='casual_basic'></a>1.1 基本概念\n",
    "\n",
    "**建模背景**\n",
    "\n",
    "* 强人工智能需要量化因果关系来回答因果问题\n",
    "* 当前的统计学并不提供因果关系的数学基础\n",
    "* 因果论背后的数学模型是（因果）贝叶斯网络和结构方程\n",
    "\n",
    "**贝叶斯网络**\n",
    "\n",
    "定义\n",
    "\n",
    "贝叶斯网络为有向无圈图（directed acyclic graph，DAG）模型。以下两种定义等价：\n",
    "\n",
    "* 联合概率分解：$p(x_1,...,x_n)=\\prod_{i}^np(x_i|pa_i)$\n",
    "* 父代马尔科夫条件：$p(x_i|pa_i)=p(x_i|x_{i,nond})$。\n",
    "\n",
    "属性\n",
    "* d-分离标准：$(X\\perp\\!\\!\\!\\perp Y|Z)_G\\Rightarrow(X\\perp\\!\\!\\!\\perp Y|Z)_P$\n",
    "\n",
    "**因果贝叶斯网络**\n",
    "\n",
    "定义\n",
    "* 满足无圈（acyclic）和马尔科夫假设的因果图（因果图将满足父代马尔科夫条件成为贝叶斯网络）\n",
    "\n",
    "马尔科夫假设\n",
    "* 未观察到的因变量$u_i$（不显示在因果图中）两两独立\n",
    "* 马尔科夫假设成立需要基于以下假设：\n",
    "    * 所有的共因变量均存在于因果图中，而不在$u_i$中（即不存在从某个$u_i$指向多个$x_i$的箭头）\n",
    "    * 不存在没有因果关系的相关关系（即$u_i$之间两两没有箭头）"
   ]
  },
  {
   "cell_type": "markdown",
   "metadata": {},
   "source": [
    "### <a id='structure'></a>1.2 确定网络结构\n",
    "\n",
    "**两种途径**\n",
    "* 利用因果关系（表达已知因果关系）\n",
    "* 通过数据学习（学习未知因果关系）\n",
    "\n",
    "**因果学习**\n",
    "\n",
    "两种方法\n",
    "* 利用数据中的条件独立信息（主要介绍这种方法）\n",
    "* 利用数据更新不同因果模型的先验概率（贝叶斯方法）\n",
    "\n",
    "假设\n",
    "* 模型结构假设（DAG，有向无圈图）\n",
    "* 马尔科夫假设。若不成立，则需要将$u_i$在图中显式地表示出来，叫做潜在变量（latent variables）。这样就使得对于包含潜在变量的因果图模型来说马尔科夫假设依然成立。\n",
    "* 最小化假设（Minimality，奥卡姆剃刀）\n",
    "* 稳定性假设（Stability/DAG-isoporphism/perfect-mapness/faithfulness）：$(X\\perp\\!\\!\\!\\perp Y|Z)_P\\Leftrightarrow(Y\\perp\\!\\!\\!\\perp X|Z)_D$\n",
    "\n",
    "算法\n",
    "* $IC$算法（Inductive Causation，模型不含潜在变量）\n",
    "* $IC^*$算法（模型包含潜在变量）"
   ]
  },
  {
   "cell_type": "markdown",
   "metadata": {},
   "source": [
    "### <a id='cpt'></a>1.3 确定条件概率表：$p(x_i|pa_i)$\n",
    "* 使用逻辑\n",
    "    * 逻辑表达式\n",
    "    * 噪声或/与（Noisy-Or/And）\n",
    "    * 排名型节点（Ranked Nodes）\n",
    "* 连续型变量\n",
    "    * 确定条件概率密度函数\n",
    "    * 概率更新\n",
    "        * 精确解：\n",
    "            * 连续型变量节点的条件概率密度为正态分布。\n",
    "            * 离散型变量不能有连续型父节点\n",
    "        * 近似解\n",
    "            * 对连续型变量进行离散处理转化成离散型变量"
   ]
  },
  {
   "cell_type": "markdown",
   "metadata": {},
   "source": [
    "### <a id='inference'></a>1.4 通过观察进行预测\n",
    "\n",
    "目标：\n",
    "* 计算证据更新后变量$A$的概率分布：\n",
    "\n",
    "\\begin{align}\n",
    "P(A|e)\n",
    "&=\\frac{\\sum_{U\\_A}P(U,e)}{P(e)}\\\\\n",
    "&=\\frac{\\sum_{U\\_A}\\prod_{A\\in U}P(A|pa(A))\\prod_{i=1}^m e_i}{P(e)}\n",
    "\\end{align}\n",
    "\n",
    "难点：\n",
    "* 需要有效的算法计算连乘求和：$P(U, e)=\\sum_{U\\_A}\\prod_{A\\in U}P(A|pa(A))\\prod_{i=1}^m e_i$\n",
    "\n",
    "**联合树（Junction Tree）算法**\n",
    "* 联合树算法基于变量消元法（variable elimination）：使用分配律降低连乘求和计算量\n",
    "* 需要解决的问题：确定最佳的变量消元顺序（对变量进行连乘求和的顺序）\n",
    "* 解决步骤：\n",
    "    1. 由贝叶斯网络生成域图（domain graph）\n",
    "        * 域图：与贝叶斯网络结构相同，有向连接变成无向连接，有共同子节点的父节点两两之间增加无向连接\n",
    "    2. 若域图为可三角化图（triangulated graph），由域图的团（clique）组织成连接树（join tree）。\n",
    "    \n",
    "        概念解释：\n",
    "        * 消元（elimination）：在域图中移除节点，去掉与之相连的连接线，其原本相连的节点两两之间若本没有连接，增加无向连接。\n",
    "        * 完美消元（perfect elimination）：没有引入新连接的消元。\n",
    "        * 可三角化图：存在完美消元序列（perfect elimination sequences）的无向图\n",
    "        * 完全集：集合中所有的节点两两相连\n",
    "        * 团：由域图节点组成的极大完全集（maximal complete set，不是其他完全集的子集）\n",
    "        * 连接树：树节点由域图的团组成，树中任意两个节点之间路径上的所有节点包含这两个树节点的交集。\n",
    "    3. 从连接树中依次消除单节点（simplicial nodes），形成完美消元序列\n",
    "        * 单节点：相连节点组成完全集的节点。\n",
    "    4. 任意一个以变量$A$结尾的完美消元序列都是计算$P(A)$的最佳消元序列\n",
    "    5. 在联合树中进行信念传递（message passing）\n",
    "        * 联合树：连接树+势函数"
   ]
  },
  {
   "cell_type": "markdown",
   "metadata": {},
   "source": [
    "### <a id='intervention'></a>1.5 通过观察预测干预效果\n",
    "从定性因果假设（因果图）和非实验（观察）数据预测干预效果\n",
    "\n",
    "* 基本假设：$P(x_1,...,x_n|\\hat x_i')=\\prod_{j\\neq i}P(x_j|pa_j)$\n",
    "* 直接原因调整：$P(y|\\hat x_i')=\\sum_{pa_i}P(y|x_i',pa_i)P(pa_i)$\n",
    "* 后门调整：$P(y|\\hat x)=\\sum_zP(y|x,z)P(z)$，其中$z$满足后门标准\n",
    "* 前门调整：$P(y|\\hat x)=\\sum_zP(z|x)\\sum_{x'}P(y|x',z)P(x')$，其中$z$满足前门标准。在某些混杂因子无法观测时，前门调整比后门调整更准确。\n",
    "* 通用规则：$do$演算\n",
    "    * 规则1（条件独立，若观察到变量$w$与$y$无关）：$P(y|\\hat x,z,w)=P(y|\\hat x,z)$\n",
    "    * 规则2（有条件删除或添加干预，若$z$阻断了从$x$到$y$的所有后门路径）：$P(y|\\hat x,z)=P(y|x,z)$\n",
    "    * 规则3（无条件删除或添加干预，若从$x$到$y$没有因果路径）：$P(y|\\hat x)=P(y|x)$\n",
    "* 工具变量"
   ]
  },
  {
   "cell_type": "markdown",
   "metadata": {},
   "source": [
    "## <a id='supervised'></a>2 监督学习"
   ]
  },
  {
   "cell_type": "markdown",
   "metadata": {},
   "source": [
    "### <a id='metrics'></a>2.1 模型评估\n",
    "\n",
    "* 查准率（准确率）：真正例在所有预测正例中所占的比例。\n",
    "* 查全率（召回率）：真正例在所有正例中所占的比例。\n",
    "* 真阳性率=召回率=$\\frac{TP}{TP+FN}$\n",
    "* F1数：查全率与查准率的调和平均：$\\frac{1}{F}=\\frac{1}{2}(\\frac{1}{P}+\\frac{1}{R})$，若查全率和查准率的重要程度相当时，可以使用F1数作为评价模型性能的综合指标。F1数越大，模型越好。\n",
    "* ROC曲线：用于评估分类器的分类性能。ROC曲线图的横轴为假正例率，纵轴为真正例率。对于某一个分类器，当分类阈值从0到1变化时，其对应的假正例率和真正例率也会相应变化，从而在ROC图上连成一条曲线。比如当阈值为0时，所有的样本都会被预测为正类，因此假正例率和真正例率都为1，对应ROC图上的(1,1)。当阈值为1时，所有的样本都会被预测为反类，因此假正例率和真正例率都为0，对应ROC图上的(0,0)。"
   ]
  },
  {
   "cell_type": "markdown",
   "metadata": {},
   "source": [
    "### <a id='best_practice'></a>2.2 经验总结"
   ]
  },
  {
   "cell_type": "markdown",
   "metadata": {},
   "source": [
    "#### 2.2.1 训练和调试模型\n",
    "\n",
    "训练模型\n",
    "\n",
    "* 选择恰当的性能度量标准。对于分类问题，若数据类别不平衡，可使用$F1$，$P-R$曲线，或者$ROC$曲线。\n",
    "* 建立基准模型。\n",
    "* 快速建立一个简单的模型并完成测试，打通全部训练步骤。\n",
    "* 确定足够大的测试集以便更准确地评估模型性能。\n",
    "* 确定足够大的验证集以便反映不同模型的性能差异。\n",
    "\n",
    "调试模型\n",
    "\n",
    "* 利用人类水平（作为贝叶斯误差）与训练集误差的差异调试模型的偏差。\n",
    "* 利用训练集误差与验证集误差的差异（训练集和验证集同分布）调试模型的方差。\n",
    "* 处理模型过拟合：\n",
    "    1. 加入正则化\n",
    "    2. 减少输入特征个数（不推荐）\n",
    "    \n",
    "其他注意事项\n",
    "\n",
    "* 训练过程不能泄露到测试数据。\n",
    "* 交叉验证用来选择超参数，然后使用测试集和验证集共同完成训练\n",
    "* 若使用梯度下降法，需要对输入数据标准化以改善训练效果。\n",
    "\n",
    "#### 2.2.2 改进数据品质\n",
    "\n",
    "* 模型过拟合时，搜集更多的数据。\n",
    "* 验证集和测试集（同分布）需要反映未来真正的应用场景会遇到的数据。"
   ]
  },
  {
   "cell_type": "markdown",
   "metadata": {},
   "source": [
    "###  <a id='nn'></a>2.3 神经网络（Neural Network）\n",
    "\n",
    "#### 2.3.1 基本结构\n",
    "\n",
    "神经网络：非线性统计模型，其非线性特性来源于模型中激活函数的非线性。若激活函数变为线性函数，那么整个神经网络就退化成线性模型。\n",
    "\n",
    "神经网络包括三种数据层：输入层、隐藏层和输出层。神经网络的层数为隐藏层层数+1（输出层）。深度神经网络（Deep Neural Network）指隐藏层多于一个的神经网络。\n",
    "\n",
    "隐藏层层数一般由实验和应用背景来确定。总的来说，深度神经网络比浅层神经网络要好。一个直观的解释是：为构建一个具有深度神经网络性能的浅层神经网络，其需要的隐藏单元数相对于深度神经网络来说需要呈指数级增加。\n",
    "\n",
    "#### 激活函数（activation function）\n",
    "\n",
    "隐藏层常用的非线性激活函数有3种：\n",
    "\n",
    "1. ReLU（修正线性单元，Rectified Linear Unit）函数：$a(z)=\\max⁡(0,z)$，当前默认使用的激活函数。\n",
    "2. Sigmoid函数：$a(z)=1/(1+e^{-z})$，现在只用于一种情形：二元分类问题的输出层。\n",
    "3. Tanh函数：$a(z)=(e^z-e^{-z})/(e^z+e^{-z})$。\n",
    "\n",
    "Sigmoid和Tanh函数共同的一个问题是：当$z$很大或者很小时，激活函数的梯度非常小（梯度消失），这会导致梯度下降法的学习速度变得非常慢。\n",
    "\n",
    "输出层的激活函数一般有两种：\n",
    "* 对于回归问题，输出层的激活函数为恒等函数：$a(z)=z$。\n",
    "* 对于多分类问题，输出层的激活函数为softmax函数（Sigmoid函数的一般形式）：$a(z_k)=e^{z_k}/\\sum_{i=1}^Ke^{z_i}$。\n",
    "\n",
    "#### 2.3.2 训练神经网络\n",
    "\n",
    "#### 误差逆传播算法\n",
    "\n",
    "训练神经网络模型是通过梯度下降法来最小化经验损失，这种方法也叫做逆传播（Back-Propagation，BP）。具体算法如下：\n",
    "\n",
    "1. 前向传播：利用当前模型参数$\\boldsymbol\\omega$计算模型的预测值，然后计算经验损失$J$。\n",
    "2. 逆传播：计算当前经验损失$J$对于模型参数的梯度：$-\\partial J(\\boldsymbol\\omega)/\\partial\\boldsymbol\\omega$\n",
    "3. 更新参数：$\\boldsymbol\\omega≔\\boldsymbol\\omega-\\alpha\\cdot\\partial J(\\boldsymbol\\omega)/\\partial\\boldsymbol\\omega$。\n",
    "\n",
    "梯度为向量，定义了对经验损失进行优化的方向。在更新参数时，最重要的不是梯度的大小，而是梯度的方向，即对各个参数$\\omega_i$更新的比例。$\\alpha$为学习率，是无量纲常数。学习率可以成比例地改变所有参数每一步更新的大小。\n",
    "\n",
    "#### 2.3.3 与机器学习相关的问题\n",
    "\n",
    "#### 处理过拟合的方法\n",
    "\n",
    "* 正则化（Regularization）\n",
    "* Dropout正则化：完全关闭部分隐藏单元。注意：在测试模型性能时不能使用dropout。\n",
    "\n",
    "其他方法：数据增强（data augmentation），早停法（early stopping）。\n",
    "\n",
    "#### 迷你批次（mini-batch）学习\n",
    "\n",
    "由对参数进行一次更新所使用样本数量$s$（训练样本总数量为$m$）的不同把神经网络的训练分为3种类型：\n",
    "\n",
    "1. $s=m$，全批次梯度下降，适用于训练集很小（$m<=2000$）的学习；\n",
    "2. $s=1$，随机（stochastic）梯度下降，适用于在线学习；\n",
    "3. $1<s<m$：迷你批次梯度下降，适用于训练集数据超过CPU/GPU内存的学习。常用的迷你批次大小$s$为：64，128，256和512。迷你批次大小需要与CPU/GPU的内存相匹配。\n",
    "\n",
    "“一代”（epoch）：使用迷你批次学习时，将所有训练数据使用一遍称为“一代”。\n",
    "\n",
    "#### 可调参数\n",
    "\n",
    "1. 学习率\n",
    "2. 隐藏层层数\n",
    "3. 隐藏单元个数\n",
    "4. dropout值/正则化参数\n",
    "5. 迷你批次大小\n",
    "\n",
    "#### 其他\n",
    "\n",
    "若没有测试集而只有验证集可能也是可以的。\n",
    "\n",
    "#### 2.3.4 解决神经网络模型自身问题的技巧\n",
    "\n",
    "#### 加快训练速度的方法\n",
    "\n",
    "* 对输入数据进行归一化，这使得所有参数可以以相同量级的速度进行更新。如果没有对输入数据进行归一化，学习率需要设定得非常小，否则优化可能会发散。\n",
    "* 使用Adam算法，修正梯度下降的方向。Adam = Momentum + RMSprop。\n",
    "* 缓慢降低学习率。\n",
    "\n",
    "#### 参数初始化（Weight Initialization）\n",
    "\n",
    "模型参数需要在0附近进行随机初始化（Random Initialization），而参数中的偏差$b$的初始值可以为0。模型参数不能初始化为相同的值（比如0或者1），否则同一层所有隐藏单元的参数更新会一模一样，这就导致了无论使用多少个隐藏单元都会退化为一个隐藏单元。参数也不宜太大，否则会导致sigmoid和tanh激活函数的梯度很小，降低学习速度。当然，若使用ReLU激活函数这一问题没有那么严重。\n",
    "\n",
    "#### 梯度消失和梯度爆炸（Vanishing and Exploding Gradients）\n",
    "\n",
    "深度神经网络具有梯度消失和梯度爆炸的问题。这一问题的根本原因是：靠前层的梯度是其后所有层的乘积，后面层的梯度值会以乘积的形式放大到靠前层，导致靠前层的梯度要么过小（梯度消失），要么过大（梯度爆炸）。\n",
    "\n",
    "解决梯度消失的方法有：使用ReLU激活函数, RNN中使用LSTM，以及Batch Normalization。\n",
    "\n",
    "另外，恰当的模型初始化也可以缓解梯度消失和梯度爆炸的问题（源于Andrew Ng的深度学习课程）。恰当的模型初始化是指控制依据前一层输入单元的个数，调整参数初始值的范围：\n",
    "\n",
    "$$\\omega^{[L]}=np.random.randn(shape)\\times np.sqrt(\\frac{2}{n^{[L-1]}})$$\n",
    "\n",
    "这一方法推荐配合ReLU激活函数使用。\n",
    "\n",
    "#### 批标准化（Batch Normalization）\n",
    "\n",
    "* 类似于对输入进行标准化，可以加快训练速度（解决梯度消失的问题）；\n",
    "* 还有一点正则化的效果；\n",
    "* 在激活函数之前而不是之后对输入$z$进行批标准化（Andrew Ng的深度学习课程推荐方法）；\n",
    "* 在使用迷你批次学习时，批标准化需要被用于单个迷你批次上。\n",
    "\n",
    "#### 迁移学习（Transfer Learning）\n",
    "\n",
    "将从任务A学习到的模型迁移到任务B，对任务B的数据进行学习。\n",
    "\n",
    "适用迁移学习的情形有：\n",
    "\n",
    "* 任务A和任务B有相同的输入；\n",
    "* 任务A的数据比任务B的数据多得多；\n",
    "* 从任务A中学习到的底层特征对任务B有帮助。\n",
    "\n",
    "#### 2.3.5 卷积神经网络（Convolutional Neural Network）\n",
    "\n",
    "为什么做卷积？\n",
    "* 参数共享：使用一个特征识别器识别图片不同部位的相同特征。\n",
    "* 关联的稀疏性：输出往往只与输入的很少一部分特征相关联，卷积可以把这些输入特征提取出来。\n",
    "\n",
    "两类特殊的数据层：\n",
    "1. 卷积层（convolutional layer）\n",
    "\n",
    "    过滤器（filter）\n",
    "        * 训练的目的就是学到过滤器的参数\n",
    "        * 过滤器深度与输入数据的深度保持一致\n",
    "        * 同一卷积层中可以有多个过滤器\n",
    "\n",
    "    步长（stride）\n",
    "        * 步长为过滤器每一步的移动距离\n",
    "\n",
    "    填充（padding）\n",
    "        * 相等填充（same padding），保持输入和输出的大小一致\n",
    "        * 合理填充（valid padding）/0填充（zero padding）：不进行填充\n",
    "\n",
    "    $$O=\\frac{W-K+2P}{S}+1$$\n",
    "\n",
    "    $O$：输出高度/长度，$W$：输入高度/长度，$K$：过滤器大小，$P$：填充大小，$S$：步长\n",
    "2. 池化层（pooling layer）\n",
    "    * 池化层过滤器的步长与其大小相同\n",
    "    * 最大池化（maxpooling）和平均池化（average pooling）\n",
    "    \n",
    "#### 2.3.6 循环神经网络（Recurrent Neural Network）\n",
    "\n",
    "模型输入\n",
    "* 序列数据（Sequence Data）或叫做序列向量（Sequence of Vectors），例如一段文字、语言等。\n",
    "\n",
    "模型输出\n",
    "* 模型输出不仅与序列向量当前的输入有关，也与序列向量当前输入之前所有的输入有关（有时也与当前输入之后的输入有关）。\n",
    "\n",
    "激活函数\n",
    "* Tanh/ReLU函数\n",
    "\n",
    "处理梯度消失\n",
    "* 使用GRU模型和LSTM模型\n",
    "\n",
    "RNN模型\n",
    "* GRU模型（Gated Recurrent Unit）\n",
    "* LSTM模型（Long-short Term Memory，GRU的一般版本）\n",
    "* 双向RNN模型"
   ]
  },
  {
   "cell_type": "markdown",
   "metadata": {},
   "source": [
    "## <a id='explore'></a>3 数据探索"
   ]
  },
  {
   "cell_type": "markdown",
   "metadata": {},
   "source": [
    "### <a id='database'></a>3.1 数据库基础\n",
    "\n",
    "#### 数据类型\n",
    "* CHAR(n)，若长度小于n，会填充成n个字符\n",
    "* VARCHAR(n)，不固定长度，最多为n个字符\n",
    "* BOOLEAN：TRUE/FALSE/UNKNOWN\n",
    "* INT\n",
    "* FLOAT\n",
    "* DATE，特定格式的字符串，'1948-05-14'\n",
    "* TIME，特定格式的字符串，'15:00:02.5'\n",
    "\n",
    "#### 数据库声明/改动\n",
    "* CREATE DATABASE DB\n",
    "* DROP DATABASE DB\n",
    "\n",
    "* CREATE TABLE R (A1 CHAR(100), A2 INT, A3 DATE)\n",
    "* DROP TABLE R\n",
    "* ALTER TABLE R ADD A CHAR(16)\n",
    "* ALTER TABLE R DROP A\n",
    "* A CHAR(10) DEFAULT default_value\n",
    "* A CHAR(10) PRIMARY KEY\n",
    "* PRIMARY KEY (A1, A2)\n",
    "* INSERT INTO R(A1,...,An) VALUES (v1,...,vn)\n",
    "* DELETE FROM R WHERE C\n",
    "* UPDATE R SET A1=v1, A2=v2 WHERE C\n",
    "\n",
    "#### 简单查询\n",
    "\n",
    "* SELECT A FROM R WHERE C\n",
    "\n",
    "SELECT子句\n",
    "\n",
    "* SELECT *\n",
    "* SELECT A1, A2\n",
    "* SELECT A1 AS a1，AS非必须\n",
    "* SELECT DISTINCT A1\n",
    "* SELECT SUM/AVG/MIN/MAX/COUNT(A1)\n",
    "\n",
    "WHERE子句\n",
    "\n",
    "* =/<>\n",
    "* AND，OR和NOT\n",
    "* s LIKE p：p中的\"%\"匹配s中任意长度（包括长度0）的字符串，\"_\"匹配s中长度为1的任意字符\n",
    "* s LIKE '[abc]%'，s LIKE '[a-c]%'，s LIKE '[!abc]%'\n",
    "* IS NULL\n",
    "* A BETWEEN v1 and v2\n",
    "* IN (v1,v2)\n",
    "* NOT LIKE/NOT BETWEEN/NOT IN/IS NOT NULL\n",
    "        \n",
    "ORDER BY子句\n",
    "\n",
    "* 放在最后\n",
    "* ORDER BY A1\n",
    "* ORDER BY A1, A2\n",
    "* ORDER BY A1, A2 DESC\n",
    "\n",
    "GROUP BY子句\n",
    "* SELECT COUNT(A1), A2 FROM R GROUP BY A2\n",
    "\n",
    "HAVING子句：在GROUP BY之前对元祖进行筛选\n",
    "\n",
    "* SELECT SUM(A1), A2 FROM R GROUP BY A2 HAVING MIN(A3) < v3\n",
    "        \n",
    "#### 在多于一个关系中进行查询\n",
    "\n",
    "* R.A：区分不同关系中的相同属性\n",
    "* 可以对关系以及子查询结果关系表进行重命名\n",
    "* UNION，INTERSECT和EXCEPT：用于对两个查询结果进行集合操作。每一个子查询需要加括号。\n",
    "* 若子查询结果为一个元祖（tuple），则认为子查询返回一个常量。若这一元祖只有一个属性，则认为是一个常数。\n",
    "* R1 INNER/OUTER/LEFT/RIGHT JOIN R2 ON R1.A1=R2.A1"
   ]
  },
  {
   "cell_type": "markdown",
   "metadata": {},
   "source": [
    "### <a id='eda'></a>3.2 探索性数据分析 (Exploratory Data Analysis)\n",
    "\n",
    "#### 数据可视化原则\n",
    "\n",
    "1. 正确显示\n",
    "    * 图像反映数据真实（Have graphical integrity）\n",
    "2. 易于阅读\n",
    "    * 保持简单（Keep it simple）\n",
    "    * 使用恰当的图示方式（Use the right display）\n",
    "    * 使用恰当的颜色（Use color strategically）\n",
    "3. 赋予逻辑\n",
    "    * 利用数据讲故事（Tell a story with data）\n",
    "\n",
    "![image.png](attachment:image.png)\n",
    "\n",
    "![image.png](attachment:image.png)"
   ]
  },
  {
   "cell_type": "markdown",
   "metadata": {},
   "source": [
    "# <a id='python'></a>Python练习"
   ]
  },
  {
   "cell_type": "markdown",
   "metadata": {},
   "source": [
    "## <a id='python基础'></a>1 Python基础"
   ]
  },
  {
   "cell_type": "markdown",
   "metadata": {},
   "source": [
    "### <a id='format'></a>1.1 .format()"
   ]
  },
  {
   "cell_type": "markdown",
   "metadata": {},
   "source": [
    "#### 1.1.1 填充和对齐字符串"
   ]
  },
  {
   "cell_type": "code",
   "execution_count": 21,
   "metadata": {},
   "outputs": [
    {
     "data": {
      "text/plain": [
       "'      test'"
      ]
     },
     "execution_count": 21,
     "metadata": {},
     "output_type": "execute_result"
    }
   ],
   "source": [
    "# align right\n",
    "'{:>10}'.format('test')"
   ]
  },
  {
   "cell_type": "code",
   "execution_count": 27,
   "metadata": {},
   "outputs": [
    {
     "data": {
      "text/plain": [
       "'test      '"
      ]
     },
     "execution_count": 27,
     "metadata": {},
     "output_type": "execute_result"
    }
   ],
   "source": [
    "# align left (default)\n",
    "'{:10}'.format('test')"
   ]
  },
  {
   "cell_type": "code",
   "execution_count": 29,
   "metadata": {},
   "outputs": [
    {
     "data": {
      "text/plain": [
       "'test      '"
      ]
     },
     "execution_count": 29,
     "metadata": {},
     "output_type": "execute_result"
    }
   ],
   "source": [
    "# align left\n",
    "'{:<10}'.format('test')"
   ]
  },
  {
   "cell_type": "code",
   "execution_count": 25,
   "metadata": {},
   "outputs": [
    {
     "data": {
      "text/plain": [
       "'test______'"
      ]
     },
     "execution_count": 25,
     "metadata": {},
     "output_type": "execute_result"
    }
   ],
   "source": [
    "# padding character\n",
    "'{:_<10}'.format('test')"
   ]
  },
  {
   "cell_type": "code",
   "execution_count": 30,
   "metadata": {},
   "outputs": [
    {
     "data": {
      "text/plain": [
       "'   test   '"
      ]
     },
     "execution_count": 30,
     "metadata": {},
     "output_type": "execute_result"
    }
   ],
   "source": [
    "# align center\n",
    "'{:^10}'.format('test')"
   ]
  },
  {
   "cell_type": "code",
   "execution_count": 32,
   "metadata": {},
   "outputs": [
    {
     "data": {
      "text/plain": [
       "' zip  '"
      ]
     },
     "execution_count": 32,
     "metadata": {},
     "output_type": "execute_result"
    }
   ],
   "source": [
    "# align center\n",
    "'{:^6}'.format('zip')"
   ]
  },
  {
   "cell_type": "markdown",
   "metadata": {},
   "source": [
    "#### 1.1.2 截断长字符串"
   ]
  },
  {
   "cell_type": "code",
   "execution_count": 33,
   "metadata": {},
   "outputs": [
    {
     "data": {
      "text/plain": [
       "'xylop'"
      ]
     },
     "execution_count": 33,
     "metadata": {},
     "output_type": "execute_result"
    }
   ],
   "source": [
    "'{:.5}'.format('xylophone')"
   ]
  },
  {
   "cell_type": "markdown",
   "metadata": {},
   "source": [
    "#### 1.1.3 同时对字符串进行填充和截断"
   ]
  },
  {
   "cell_type": "code",
   "execution_count": 34,
   "metadata": {},
   "outputs": [
    {
     "data": {
      "text/plain": [
       "'xylop     '"
      ]
     },
     "execution_count": 34,
     "metadata": {},
     "output_type": "execute_result"
    }
   ],
   "source": [
    "'{:10.5}'.format('xylophone')"
   ]
  },
  {
   "cell_type": "markdown",
   "metadata": {},
   "source": [
    "#### 1.1.4 数字"
   ]
  },
  {
   "cell_type": "code",
   "execution_count": 38,
   "metadata": {},
   "outputs": [
    {
     "data": {
      "text/plain": [
       "'42'"
      ]
     },
     "execution_count": 38,
     "metadata": {},
     "output_type": "execute_result"
    }
   ],
   "source": [
    "'{:d}'.format(42)"
   ]
  },
  {
   "cell_type": "code",
   "execution_count": 39,
   "metadata": {},
   "outputs": [
    {
     "data": {
      "text/plain": [
       "'3.141593'"
      ]
     },
     "execution_count": 39,
     "metadata": {},
     "output_type": "execute_result"
    }
   ],
   "source": [
    "'{:f}'.format(3.141592653589793)"
   ]
  },
  {
   "cell_type": "markdown",
   "metadata": {},
   "source": [
    "#### 1.1.5 填充数字"
   ]
  },
  {
   "cell_type": "code",
   "execution_count": 42,
   "metadata": {},
   "outputs": [
    {
     "data": {
      "text/plain": [
       "'  42'"
      ]
     },
     "execution_count": 42,
     "metadata": {},
     "output_type": "execute_result"
    }
   ],
   "source": [
    "# align right (default)\n",
    "'{:4d}'.format(42)"
   ]
  },
  {
   "cell_type": "code",
   "execution_count": 46,
   "metadata": {},
   "outputs": [
    {
     "data": {
      "text/plain": [
       "'42  '"
      ]
     },
     "execution_count": 46,
     "metadata": {},
     "output_type": "execute_result"
    }
   ],
   "source": [
    "'{:<4d}'.format(42)"
   ]
  },
  {
   "cell_type": "code",
   "execution_count": 15,
   "metadata": {},
   "outputs": [
    {
     "data": {
      "text/plain": [
       "'003.14'"
      ]
     },
     "execution_count": 15,
     "metadata": {},
     "output_type": "execute_result"
    }
   ],
   "source": [
    "'{:06.2f}'.format(3.141592653589793)"
   ]
  },
  {
   "cell_type": "markdown",
   "metadata": {},
   "source": [
    "### <a id='string'></a> 1.2 字符串（String）"
   ]
  },
  {
   "cell_type": "markdown",
   "metadata": {},
   "source": [
    "#### 1.2.1 特殊字符"
   ]
  },
  {
   "cell_type": "markdown",
   "metadata": {},
   "source": [
    "`\\n` `\\t` `\\\\` `\\'` `\\\"`"
   ]
  },
  {
   "cell_type": "markdown",
   "metadata": {},
   "source": [
    "#### 1.2.2 字符串截取操作"
   ]
  },
  {
   "cell_type": "code",
   "execution_count": 17,
   "metadata": {},
   "outputs": [
    {
     "data": {
      "text/plain": [
       "'ython'"
      ]
     },
     "execution_count": 17,
     "metadata": {},
     "output_type": "execute_result"
    }
   ],
   "source": [
    "# slice index can be out of range. same applied to list and tuple.\n",
    "s = 'Python'\n",
    "s[1:100]"
   ]
  },
  {
   "cell_type": "code",
   "execution_count": 18,
   "metadata": {},
   "outputs": [
    {
     "data": {
      "text/plain": [
       "'nohtyP'"
      ]
     },
     "execution_count": 18,
     "metadata": {},
     "output_type": "execute_result"
    }
   ],
   "source": [
    "# reverse\n",
    "s = 'Python'\n",
    "s_reversed = s[::-1]\n",
    "s_reversed"
   ]
  },
  {
   "cell_type": "markdown",
   "metadata": {},
   "source": [
    "#### 1.2.3 计数"
   ]
  },
  {
   "cell_type": "code",
   "execution_count": 9,
   "metadata": {},
   "outputs": [
    {
     "data": {
      "text/plain": [
       "1"
      ]
     },
     "execution_count": 9,
     "metadata": {},
     "output_type": "execute_result"
    }
   ],
   "source": [
    "S = 'AAAAaaaab'\n",
    "S.count('b')"
   ]
  },
  {
   "cell_type": "code",
   "execution_count": 16,
   "metadata": {},
   "outputs": [
    {
     "data": {
      "text/plain": [
       "8"
      ]
     },
     "execution_count": 16,
     "metadata": {},
     "output_type": "execute_result"
    }
   ],
   "source": [
    "J = 'Aa'\n",
    "S = 'AAAAaaaab'\n",
    "sum(map(J.count, S))"
   ]
  },
  {
   "cell_type": "markdown",
   "metadata": {},
   "source": [
    "### <a id='tuple'></a>1.3 元祖（Tuple）"
   ]
  },
  {
   "cell_type": "markdown",
   "metadata": {},
   "source": [
    "#### 1.3.1 创建元祖"
   ]
  },
  {
   "cell_type": "code",
   "execution_count": 52,
   "metadata": {},
   "outputs": [
    {
     "data": {
      "text/plain": [
       "(0, -1, 12, 212.23, 100)"
      ]
     },
     "execution_count": 52,
     "metadata": {},
     "output_type": "execute_result"
    }
   ],
   "source": [
    "tup1 = (0, -1, 12, 212.23, 100)\n",
    "tup1"
   ]
  },
  {
   "cell_type": "code",
   "execution_count": 53,
   "metadata": {},
   "outputs": [
    {
     "data": {
      "text/plain": [
       "()"
      ]
     },
     "execution_count": 53,
     "metadata": {},
     "output_type": "execute_result"
    }
   ],
   "source": [
    "empty_tup1 = ()\n",
    "empty_tup1"
   ]
  },
  {
   "cell_type": "code",
   "execution_count": 54,
   "metadata": {},
   "outputs": [
    {
     "data": {
      "text/plain": [
       "(100,)"
      ]
     },
     "execution_count": 54,
     "metadata": {},
     "output_type": "execute_result"
    }
   ],
   "source": [
    "single_tup1 = (100, )\n",
    "single_tup1"
   ]
  },
  {
   "cell_type": "code",
   "execution_count": 105,
   "metadata": {},
   "outputs": [
    {
     "data": {
      "text/plain": [
       "(1, 2, 3, 4)"
      ]
     },
     "execution_count": 105,
     "metadata": {},
     "output_type": "execute_result"
    }
   ],
   "source": [
    "# covert a list to a tuple\n",
    "listx = [1,2,3,4]\n",
    "tuplex = tuple(listx)\n",
    "tuplex"
   ]
  },
  {
   "cell_type": "markdown",
   "metadata": {},
   "source": [
    "### <a id='list'></a>1.4 列表（List）"
   ]
  },
  {
   "cell_type": "markdown",
   "metadata": {},
   "source": [
    "#### 1.4.1 删除列表元素之前对列表进行复制"
   ]
  },
  {
   "cell_type": "code",
   "execution_count": 98,
   "metadata": {},
   "outputs": [
    {
     "data": {
      "text/plain": [
       "([1, 2, 3, 4], [1, 2, 3, 4, 5])"
      ]
     },
     "execution_count": 98,
     "metadata": {},
     "output_type": "execute_result"
    }
   ],
   "source": [
    "# copy\n",
    "a = [1,2,3,4,5]\n",
    "b = a[:]\n",
    "a.remove(5)\n",
    "a, b"
   ]
  },
  {
   "cell_type": "markdown",
   "metadata": {},
   "source": [
    "#### 1.4.2 翻转列表元素顺序"
   ]
  },
  {
   "cell_type": "code",
   "execution_count": 99,
   "metadata": {},
   "outputs": [
    {
     "data": {
      "text/plain": [
       "([1, 2, 3, 4, 5], [5, 4, 3, 2, 1])"
      ]
     },
     "execution_count": 99,
     "metadata": {},
     "output_type": "execute_result"
    }
   ],
   "source": [
    "# reverse and create a new list\n",
    "a = [1,2,3,4,5]\n",
    "b = a[::-1]\n",
    "a, b"
   ]
  },
  {
   "cell_type": "code",
   "execution_count": 101,
   "metadata": {},
   "outputs": [
    {
     "data": {
      "text/plain": [
       "[5, 4, 3, 2, 1]"
      ]
     },
     "execution_count": 101,
     "metadata": {},
     "output_type": "execute_result"
    }
   ],
   "source": [
    "# reverse in place\n",
    "a = [1,2,3,4,5]\n",
    "a.reverse()\n",
    "a"
   ]
  },
  {
   "cell_type": "markdown",
   "metadata": {},
   "source": [
    "#### 1.4.3 enumerate & zip"
   ]
  },
  {
   "cell_type": "code",
   "execution_count": 19,
   "metadata": {},
   "outputs": [
    {
     "data": {
      "text/plain": [
       "[(0, 1), (1, 2), (2, 3), (3, 4), (4, 5)]"
      ]
     },
     "execution_count": 19,
     "metadata": {},
     "output_type": "execute_result"
    }
   ],
   "source": [
    "# same applied to other sequence objects\n",
    "\n",
    "alist = [1,2,3,4,5]\n",
    "list(enumerate(alist))"
   ]
  },
  {
   "cell_type": "code",
   "execution_count": 20,
   "metadata": {},
   "outputs": [
    {
     "data": {
      "text/plain": [
       "[(1, 1), (2, 4), (3, 9), (4, 16), (5, 25)]"
      ]
     },
     "execution_count": 20,
     "metadata": {},
     "output_type": "execute_result"
    }
   ],
   "source": [
    "asquaredlist = [i*i for i in alist]\n",
    "list(zip(alist, asquaredlist))"
   ]
  },
  {
   "cell_type": "markdown",
   "metadata": {},
   "source": [
    "`例题：请写出一个函数满足以下条件：该函数的输入是一个仅包含数字的list,输出一个新的list，其中每一个元素要满足以下条件：`\n",
    "\n",
    "`1、该元素是偶数`\n",
    "\n",
    "`2、该元素在原list中是在偶数的位置(index是偶数)`"
   ]
  },
  {
   "cell_type": "code",
   "execution_count": 57,
   "metadata": {},
   "outputs": [
    {
     "data": {
      "text/plain": [
       "[0, 11, 4, 6, 8, 10]"
      ]
     },
     "execution_count": 57,
     "metadata": {},
     "output_type": "execute_result"
    }
   ],
   "source": [
    "num = [0,1,11,3,4,5,6,7,8,9,10]\n",
    "[value for index, value in enumerate(num) if (index%2==0)|(value%2==0)]"
   ]
  },
  {
   "cell_type": "markdown",
   "metadata": {},
   "source": [
    "### <a id='set'></a>1.5 集合（Set）"
   ]
  },
  {
   "cell_type": "markdown",
   "metadata": {},
   "source": [
    "#### 1.5.1 创建集合"
   ]
  },
  {
   "cell_type": "code",
   "execution_count": 22,
   "metadata": {},
   "outputs": [
    {
     "data": {
      "text/plain": [
       "{'a',\n",
       " 'b',\n",
       " 'c',\n",
       " 'd',\n",
       " 'e',\n",
       " 'f',\n",
       " 'g',\n",
       " 'h',\n",
       " 'i',\n",
       " 'j',\n",
       " 'k',\n",
       " 'l',\n",
       " 'm',\n",
       " 'n',\n",
       " 'o',\n",
       " 'p',\n",
       " 'q',\n",
       " 'r',\n",
       " 's',\n",
       " 't',\n",
       " 'u',\n",
       " 'v',\n",
       " 'w',\n",
       " 'x',\n",
       " 'y',\n",
       " 'z'}"
      ]
     },
     "execution_count": 22,
     "metadata": {},
     "output_type": "execute_result"
    }
   ],
   "source": [
    "# 由字符串创建集合\n",
    "set(\"abcdefghijklmnopqrstuvwxyz\")"
   ]
  },
  {
   "cell_type": "code",
   "execution_count": 23,
   "metadata": {},
   "outputs": [
    {
     "data": {
      "text/plain": [
       "({0, 1, 2, 3, 4, 6, 7, 8}, {1, 2, 5, 6, 7, 8, 9})"
      ]
     },
     "execution_count": 23,
     "metadata": {},
     "output_type": "execute_result"
    }
   ],
   "source": [
    "# 由列表创建集合\n",
    "a = [1, 2, 1, 3, 0, 0, 4, 7, 8, 6]\n",
    "b = [5, 5, 7, 8, 7, 9, 6, 1, 1, 2]\n",
    "s1 = set(a)\n",
    "s2 = set(b)\n",
    "s1, s2"
   ]
  },
  {
   "cell_type": "markdown",
   "metadata": {},
   "source": [
    "#### 1.5.2 集合操作"
   ]
  },
  {
   "cell_type": "code",
   "execution_count": 61,
   "metadata": {},
   "outputs": [
    {
     "data": {
      "text/plain": [
       "{0, 1, 2, 3, 4, 5, 6, 7, 8, 9}"
      ]
     },
     "execution_count": 61,
     "metadata": {},
     "output_type": "execute_result"
    }
   ],
   "source": [
    "# union\n",
    "s1 | s2"
   ]
  },
  {
   "cell_type": "code",
   "execution_count": 62,
   "metadata": {},
   "outputs": [
    {
     "data": {
      "text/plain": [
       "{1, 2, 6, 7, 8}"
      ]
     },
     "execution_count": 62,
     "metadata": {},
     "output_type": "execute_result"
    }
   ],
   "source": [
    "# intersection\n",
    "s1 & s2"
   ]
  },
  {
   "cell_type": "code",
   "execution_count": 65,
   "metadata": {},
   "outputs": [
    {
     "data": {
      "text/plain": [
       "{0, 3, 4}"
      ]
     },
     "execution_count": 65,
     "metadata": {},
     "output_type": "execute_result"
    }
   ],
   "source": [
    "# difference\n",
    "s1 - s2"
   ]
  },
  {
   "cell_type": "code",
   "execution_count": 63,
   "metadata": {},
   "outputs": [
    {
     "data": {
      "text/plain": [
       "{0, 3, 4, 5, 9}"
      ]
     },
     "execution_count": 63,
     "metadata": {},
     "output_type": "execute_result"
    }
   ],
   "source": [
    "# symmetric difference (union-intersection)\n",
    "s1 ^ s2"
   ]
  },
  {
   "cell_type": "markdown",
   "metadata": {},
   "source": [
    "`例题：给定两个列表，怎么找出他们相同的元素和不同的元素？`"
   ]
  },
  {
   "cell_type": "code",
   "execution_count": 44,
   "metadata": {},
   "outputs": [
    {
     "name": "stdout",
     "output_type": "stream",
     "text": [
      "{3}\n",
      "{1, 2, 4, 5}\n"
     ]
    }
   ],
   "source": [
    "list1 = [1,2,3]\n",
    "list2 = [3,4,5]\n",
    "\n",
    "print(set(list1)&set(list2))\n",
    "print(set(list1)^set(list2))"
   ]
  },
  {
   "cell_type": "markdown",
   "metadata": {},
   "source": [
    "`例题：`\n",
    "\n",
    "`全字母短句 PANGRAM 是包含所有英文字母的句子，比如：A QUICK BROWN FOX JUMPS OVER THE LAZY DOG。`\n",
    "\n",
    "`定义并实现一个方法 get_missing_letter, 传入一个字符串采纳数，返回参数字符串变成一个 PANGRAM 中所缺失的字符。应该忽略传入字符串参数中的大小写，返回应该都是小写字符并按字母顺序排序（请忽略所有非 ACSII 字符）`"
   ]
  },
  {
   "cell_type": "code",
   "execution_count": 51,
   "metadata": {},
   "outputs": [
    {
     "data": {
      "text/plain": [
       "'cfjkpquvwxz'"
      ]
     },
     "execution_count": 51,
     "metadata": {},
     "output_type": "execute_result"
    }
   ],
   "source": [
    "def get_missing_letter(input_str):\n",
    "    a = set(\"abcdefghijklmnopqrstuvwxyz\")\n",
    "    b = set(input_str.lower())\n",
    "\n",
    "    output = sorted(list(a - b))\n",
    "\n",
    "    return ''.join(output)\n",
    "\n",
    "get_missing_letter(\"Lions, and tigers, and bears, oh my!\")"
   ]
  },
  {
   "cell_type": "markdown",
   "metadata": {},
   "source": [
    "### <a id='dict'></a>1.6 字典（Dictionaries）"
   ]
  },
  {
   "cell_type": "markdown",
   "metadata": {},
   "source": [
    "#### 1.6.1 创建字典"
   ]
  },
  {
   "cell_type": "code",
   "execution_count": 38,
   "metadata": {},
   "outputs": [
    {
     "data": {
      "text/plain": [
       "(dict_items([('Red', 1), ('Blue', 3), ('Green', 2)]),\n",
       " dict_keys(['Red', 'Blue', 'Green']),\n",
       " dict_values([1, 3, 2]))"
      ]
     },
     "execution_count": 38,
     "metadata": {},
     "output_type": "execute_result"
    }
   ],
   "source": [
    "# construct dictionary\n",
    "d = {'Red': 1, 'Green': 2, 'Blue': 3}\n",
    "d.items(), d.keys(), d.values()"
   ]
  },
  {
   "cell_type": "code",
   "execution_count": 12,
   "metadata": {},
   "outputs": [
    {
     "data": {
      "text/plain": [
       "{1: 1, 2: 4, 3: 9, 4: 16, 5: 25}"
      ]
     },
     "execution_count": 12,
     "metadata": {},
     "output_type": "execute_result"
    }
   ],
   "source": [
    "#### construct dictionary using list comprehension\n",
    "alist = [1,2,3,4,5]\n",
    "asquaredlist = [i*i for i in alist]\n",
    "mydict = {k:v for k,v in zip(alist, asquaredlist)}\n",
    "mydict"
   ]
  },
  {
   "cell_type": "code",
   "execution_count": 13,
   "metadata": {},
   "outputs": [
    {
     "data": {
      "text/plain": [
       "{'a': 1, 'b': 2}"
      ]
     },
     "execution_count": 13,
     "metadata": {},
     "output_type": "execute_result"
    }
   ],
   "source": [
    "#### construct dictionary using dict function\n",
    "dict(a=1, b=2)"
   ]
  },
  {
   "cell_type": "markdown",
   "metadata": {},
   "source": [
    "### <a id='op'></a>1.7 运算符"
   ]
  },
  {
   "cell_type": "code",
   "execution_count": 67,
   "metadata": {},
   "outputs": [
    {
     "data": {
      "text/plain": [
       "(4, 537824, 2)"
      ]
     },
     "execution_count": 67,
     "metadata": {},
     "output_type": "execute_result"
    }
   ],
   "source": [
    "x = 14\n",
    "y = 5\n",
    "x%y, x**y, x//y"
   ]
  },
  {
   "cell_type": "markdown",
   "metadata": {},
   "source": [
    "### <a id='for'></a>1.8 for循环"
   ]
  },
  {
   "cell_type": "markdown",
   "metadata": {},
   "source": [
    "#### 1.8.1 range()"
   ]
  },
  {
   "cell_type": "code",
   "execution_count": 69,
   "metadata": {},
   "outputs": [
    {
     "name": "stdout",
     "output_type": "stream",
     "text": [
      "2\n",
      "3\n",
      "4\n",
      "5\n",
      "6\n"
     ]
    }
   ],
   "source": [
    "for a in range(2,7):\n",
    "    print(a)"
   ]
  },
  {
   "cell_type": "code",
   "execution_count": 70,
   "metadata": {},
   "outputs": [
    {
     "name": "stdout",
     "output_type": "stream",
     "text": [
      "2\n",
      "7\n",
      "12\n",
      "17\n"
     ]
    }
   ],
   "source": [
    "for a in range(2,19,5):\n",
    "    print(a)"
   ]
  },
  {
   "cell_type": "markdown",
   "metadata": {},
   "source": [
    "#### 1.8.2 在字典中进行循环"
   ]
  },
  {
   "cell_type": "code",
   "execution_count": 106,
   "metadata": {},
   "outputs": [
    {
     "name": "stdout",
     "output_type": "stream",
     "text": [
      "Green 2\n",
      "Blue 3\n",
      "Red 1\n"
     ]
    }
   ],
   "source": [
    "d = {'Red': 1, 'Green': 2, 'Blue': 3}\n",
    "\n",
    "for key, value in d.items():\n",
    "    print(key, value)"
   ]
  },
  {
   "cell_type": "markdown",
   "metadata": {},
   "source": [
    "### <a id='datetime'></a>1.9 datetime"
   ]
  },
  {
   "cell_type": "markdown",
   "metadata": {},
   "source": [
    "#### 1.9.1 datetime.strftime()"
   ]
  },
  {
   "cell_type": "code",
   "execution_count": 75,
   "metadata": {},
   "outputs": [
    {
     "name": "stdout",
     "output_type": "stream",
     "text": [
      "2019-10-15 16:44:10.584967\n"
     ]
    }
   ],
   "source": [
    "from datetime import datetime\n",
    "now = datetime.now()\n",
    "print(now)"
   ]
  },
  {
   "cell_type": "code",
   "execution_count": 93,
   "metadata": {},
   "outputs": [
    {
     "data": {
      "text/plain": [
       "'10/15/2019'"
      ]
     },
     "execution_count": 93,
     "metadata": {},
     "output_type": "execute_result"
    }
   ],
   "source": [
    "day = now.strftime('%m/%d/%Y')\n",
    "day"
   ]
  },
  {
   "cell_type": "code",
   "execution_count": 92,
   "metadata": {},
   "outputs": [
    {
     "data": {
      "text/plain": [
       "'10/15/19'"
      ]
     },
     "execution_count": 92,
     "metadata": {},
     "output_type": "execute_result"
    }
   ],
   "source": [
    "day = now.strftime('%m/%d/%y')\n",
    "day"
   ]
  },
  {
   "cell_type": "markdown",
   "metadata": {},
   "source": [
    "#### 1.9.2 date\n",
    "#### 输入日期， 判断这一天是这一年的第几天？"
   ]
  },
  {
   "cell_type": "code",
   "execution_count": 15,
   "metadata": {},
   "outputs": [
    {
     "name": "stdout",
     "output_type": "stream",
     "text": [
      "Please input year: 2019\n",
      "Please input month: 10\n",
      "Please input day: 16\n"
     ]
    },
    {
     "data": {
      "text/plain": [
       "289"
      ]
     },
     "execution_count": 15,
     "metadata": {},
     "output_type": "execute_result"
    }
   ],
   "source": [
    "from datetime import date\n",
    "\n",
    "year = input(\"Please input year: \")\n",
    "month = input(\"Please input month: \")\n",
    "day = input(\"Please input day: \")\n",
    "\n",
    "def dayofyear(year, month, day):\n",
    "    \"\"\"\n",
    "    year: str\n",
    "    month: str\n",
    "    day: str\n",
    "    \"\"\"\n",
    "    date1 = date(int(year), int(month), int(day))\n",
    "    date0 = date(int(year), 1, 1)\n",
    "    \n",
    "    delta = (date1-date0).days + 1\n",
    "    \n",
    "    return delta\n",
    "\n",
    "dayofyear(year, month, day)"
   ]
  },
  {
   "cell_type": "markdown",
   "metadata": {},
   "source": [
    "### <a id='sort'></a> 1.10 排序（sort）"
   ]
  },
  {
   "cell_type": "markdown",
   "metadata": {},
   "source": [
    "#### 1.10.1 对列表进行排序"
   ]
  },
  {
   "cell_type": "code",
   "execution_count": 27,
   "metadata": {},
   "outputs": [
    {
     "data": {
      "text/plain": [
       "['Black', 'Blue', 'Green', 'Red']"
      ]
     },
     "execution_count": 27,
     "metadata": {},
     "output_type": "execute_result"
    }
   ],
   "source": [
    "# sort in place\n",
    "color_list = ['Red', 'Blue', 'Green', 'Black']\n",
    "color_list.sort(key=None, reverse=False)\n",
    "color_list"
   ]
  },
  {
   "cell_type": "code",
   "execution_count": 28,
   "metadata": {},
   "outputs": [
    {
     "data": {
      "text/plain": [
       "(['Red', 'Blue', 'Green', 'Black'], ['Black', 'Blue', 'Green', 'Red'])"
      ]
     },
     "execution_count": 28,
     "metadata": {},
     "output_type": "execute_result"
    }
   ],
   "source": [
    "color_list = ['Red', 'Blue', 'Green', 'Black']\n",
    "color_list_sorted = sorted(color_list, reverse=False)\n",
    "color_list, color_list_sorted"
   ]
  },
  {
   "cell_type": "markdown",
   "metadata": {},
   "source": [
    "#### 1.10.2 对字典进行排序"
   ]
  },
  {
   "cell_type": "code",
   "execution_count": 29,
   "metadata": {},
   "outputs": [
    {
     "data": {
      "text/plain": [
       "['black', 'green', 'red', 'white']"
      ]
     },
     "execution_count": 29,
     "metadata": {},
     "output_type": "execute_result"
    }
   ],
   "source": [
    "# sort a dictionary will get a list\n",
    "color_dict = {'red': '#FF0000',\n",
    "              'green': '#008000',\n",
    "              'black': '#000000',\n",
    "              'white': '#FFFFFF'}\n",
    "\n",
    "sorted(color_dict)"
   ]
  },
  {
   "cell_type": "markdown",
   "metadata": {},
   "source": [
    "#### 现有字典 d= {'a':24,'g':52,'i':12,'k':33}，请按value值进行排序。"
   ]
  },
  {
   "cell_type": "code",
   "execution_count": 32,
   "metadata": {},
   "outputs": [
    {
     "data": {
      "text/plain": [
       "({'a': 24, 'g': 52, 'i': 12, 'k': 33},\n",
       " [('i', 12), ('a', 24), ('k', 33), ('g', 52)])"
      ]
     },
     "execution_count": 32,
     "metadata": {},
     "output_type": "execute_result"
    }
   ],
   "source": [
    "d = {'a':24, 'g':52, 'i':12, 'k':33}\n",
    "d_sorted = sorted(d.items(), key=lambda x:x[1])\n",
    "d, d_sorted"
   ]
  },
  {
   "cell_type": "markdown",
   "metadata": {},
   "source": [
    "#### 按alist中元素的age由大到小排序"
   ]
  },
  {
   "cell_type": "code",
   "execution_count": 43,
   "metadata": {},
   "outputs": [
    {
     "data": {
      "text/plain": [
       "[{'age': 30, 'name': 'b'}, {'age': 25, 'name': 'c'}, {'age': 20, 'name': 'a'}]"
      ]
     },
     "execution_count": 43,
     "metadata": {},
     "output_type": "execute_result"
    }
   ],
   "source": [
    "alist = [{'name':'a','age':20},{'name':'b','age':30},{'name':'c','age':25}]\n",
    "sorted(alist, key=lambda x:x['age'], reverse=True)"
   ]
  },
  {
   "cell_type": "markdown",
   "metadata": {},
   "source": [
    "### <a id='function'></a>1.11 函数（Function）"
   ]
  },
  {
   "cell_type": "markdown",
   "metadata": {},
   "source": [
    "#### 1.11.1 不定数量参数"
   ]
  },
  {
   "cell_type": "code",
   "execution_count": 3,
   "metadata": {},
   "outputs": [
    {
     "name": "stdout",
     "output_type": "stream",
     "text": [
      "a 10\n",
      "single_item 1\n",
      "single_item 2\n",
      "single_item 3\n",
      "Inge 1568\n",
      "Jack 1123\n",
      "John 2331\n",
      "None\n"
     ]
    }
   ],
   "source": [
    "# variable number of positional arguments will be wrapped in a tuple\n",
    "# variable number of keyword arguments will be wrapped in a dictionary\n",
    "\n",
    "def total(a=5, *numbers, **phonebook):\n",
    "    print('a', a)\n",
    "    \n",
    "    for single_item in numbers:\n",
    "        print('single_item', single_item)\n",
    "    \n",
    "    for first_part, second_part in phonebook.items():\n",
    "        print(first_part, second_part)\n",
    "\n",
    "print(total(10, 1,2,3, Jack=1123, John=2331, Inge=1568))"
   ]
  },
  {
   "cell_type": "markdown",
   "metadata": {},
   "source": [
    "#### 1.11.2 lambda"
   ]
  },
  {
   "cell_type": "code",
   "execution_count": 118,
   "metadata": {},
   "outputs": [
    {
     "data": {
      "text/plain": [
       "3.5"
      ]
     },
     "execution_count": 118,
     "metadata": {},
     "output_type": "execute_result"
    }
   ],
   "source": [
    "(lambda x, y: (x+y)/2)(4,3)"
   ]
  },
  {
   "cell_type": "code",
   "execution_count": 48,
   "metadata": {},
   "outputs": [
    {
     "data": {
      "text/plain": [
       "[('blue', 2), ('green', 3), ('red', 10)]"
      ]
     },
     "execution_count": 48,
     "metadata": {},
     "output_type": "execute_result"
    }
   ],
   "source": [
    "d = {'red':10, 'blue':2, 'green':3}\n",
    "sorted(d.items(), key=lambda x:x[1])"
   ]
  },
  {
   "cell_type": "code",
   "execution_count": 7,
   "metadata": {},
   "outputs": [
    {
     "data": {
      "text/plain": [
       "[1, 4, 9, 16]"
      ]
     },
     "execution_count": 7,
     "metadata": {},
     "output_type": "execute_result"
    }
   ],
   "source": [
    "# map\n",
    "list(map(lambda x: x * x, [1, 2, 3, 4]))"
   ]
  },
  {
   "cell_type": "code",
   "execution_count": 9,
   "metadata": {},
   "outputs": [
    {
     "data": {
      "text/plain": [
       "24"
      ]
     },
     "execution_count": 9,
     "metadata": {},
     "output_type": "execute_result"
    }
   ],
   "source": [
    "# reduce\n",
    "from functools import reduce\n",
    "\n",
    "reduce(lambda x, y: x * y, [1, 2, 3, 4])"
   ]
  },
  {
   "cell_type": "code",
   "execution_count": 12,
   "metadata": {},
   "outputs": [
    {
     "data": {
      "text/plain": [
       "[6, 7, 8]"
      ]
     },
     "execution_count": 12,
     "metadata": {},
     "output_type": "execute_result"
    }
   ],
   "source": [
    "# filter\n",
    "list(filter(lambda x:x>5,[1,2,3,4,5,6,7,8]))"
   ]
  },
  {
   "cell_type": "markdown",
   "metadata": {},
   "source": [
    "### 1.12 <a id='file'></a>文件操作"
   ]
  },
  {
   "cell_type": "markdown",
   "metadata": {},
   "source": [
    "#### 1.12.1 打开文件"
   ]
  },
  {
   "cell_type": "code",
   "execution_count": 46,
   "metadata": {},
   "outputs": [
    {
     "data": {
      "text/plain": [
       "'test'"
      ]
     },
     "execution_count": 46,
     "metadata": {},
     "output_type": "execute_result"
    }
   ],
   "source": [
    "with open('test.txt') as f:\n",
    "    text = f.read()\n",
    "text"
   ]
  },
  {
   "cell_type": "markdown",
   "metadata": {},
   "source": [
    "#### 1.13.2 文件路径"
   ]
  },
  {
   "cell_type": "markdown",
   "metadata": {},
   "source": [
    "`os.listdir`\n",
    "`os.path.pardir`\n",
    "`os.path.join`\n",
    "`os.path.isfile`\n",
    "`os.path.isdir`"
   ]
  },
  {
   "cell_type": "code",
   "execution_count": null,
   "metadata": {},
   "outputs": [],
   "source": [
    "def print_directory_contents(s_path):\n",
    "    \"\"\"\n",
    "    这个函数接收文件夹的名称作为输入参数\n",
    "    返回该文件夹中文件的路径\n",
    "    以及其包含文件夹中文件的路径\n",
    "    \"\"\"\n",
    "    import os\n",
    "    for s_child in os.listdir(s_path):\n",
    "        s_child_path = os.path.join(s_path, s_child)\n",
    "        if os.path.isdir(s_child_path):\n",
    "            print_directory_contents(s_child_path)\n",
    "        else:\n",
    "            print(s_child_path)\n",
    "\n",
    "print_directory_contents('New folder')"
   ]
  },
  {
   "cell_type": "markdown",
   "metadata": {},
   "source": [
    "#### 设计实现遍历目录与子目录，抓取.pyc文件"
   ]
  },
  {
   "cell_type": "code",
   "execution_count": 49,
   "metadata": {},
   "outputs": [],
   "source": [
    "from glob import glob\n",
    "import os\n",
    "\n",
    "def scan_path(path, postfix):\n",
    "    result = []\n",
    "    for i in glob(os.path.join(path, '**\\\\*.{}'.format(postfix)), recursive=True):\n",
    "        result.append(i.split('\\\\')[-1])\n",
    "    \n",
    "    return result"
   ]
  },
  {
   "cell_type": "code",
   "execution_count": 50,
   "metadata": {},
   "outputs": [
    {
     "data": {
      "text/plain": [
       "['diff.cpython-35.pyc',\n",
       " 'factory.cpython-35.pyc',\n",
       " 'md5.cpython-35.pyc',\n",
       " 'platform.cpython-35.pyc',\n",
       " 'usage.cpython-35.pyc',\n",
       " '__init__.cpython-35.pyc',\n",
       " 'export.cpython-35.pyc',\n",
       " 'process.cpython-35.pyc',\n",
       " 'query.cpython-35.pyc',\n",
       " '__init__.cpython-35.pyc']"
      ]
     },
     "execution_count": 50,
     "metadata": {},
     "output_type": "execute_result"
    }
   ],
   "source": [
    "scan_path('C:\\\\Users\\\\ZAO_LI_XU\\\\Documents\\\\Dell\\\\python_projects\\\\pcbatest_pkgs','pyc')"
   ]
  },
  {
   "cell_type": "markdown",
   "metadata": {},
   "source": [
    "## <a id='program'></a>2 编程例题"
   ]
  },
  {
   "cell_type": "markdown",
   "metadata": {},
   "source": [
    "### <a id='patterns'></a>2.1 求解套路"
   ]
  },
  {
   "cell_type": "markdown",
   "metadata": {},
   "source": [
    "#### 2.1.1 一般性原则"
   ]
  },
  {
   "cell_type": "markdown",
   "metadata": {},
   "source": [
    "* After you write the code for a problem, immediately verify that the code works by tracing through it with an example.\n",
    "* Make sure you check your code for all error and special cases, especially boundary conditions.\n",
    "* Big-O Analysis: identify the operations that are dependent on the input size.\n",
    "    * $O(1)$\n",
    "    * $O(\\log n)$\n",
    "    * $O(n \\log n)$\n",
    "    * $O(n^c)$\n",
    "    * $O(c^n)$\n",
    "    * $O(n!)$\n",
    "\n",
    "* Arrays and hash tables: $O(1)$(worse-case lookup for hash table is $O(n)$, but the average case is $O(1)$)"
   ]
  },
  {
   "cell_type": "markdown",
   "metadata": {},
   "source": [
    "#### 2.1.2 patterns"
   ]
  },
  {
   "cell_type": "markdown",
   "metadata": {},
   "source": [
    "`Serach and Operation on 2 items in 2 arrays (can be the same array)`\n",
    "* build hash table (dictionary) for search: $O(n)$ for runtime\n",
    "\n",
    "`Delete an item from an array`\n",
    "* In place deletion by tracking the read location and write location: $O(n)$ for runtime\n",
    "\n",
    "`Reverse words in a string`\n",
    "* Reverse entire string, and then reverse characters in each word.\n",
    "\n",
    "`Integer/String Conversions`\n",
    "* From String to Integer: subtract '0'\n",
    "* Horner's Rule: scan from left to right, multiply by a factor of 10  and then add the new digit\n",
    "* From Integer to String: add '0'\n",
    "* % and //; treat negative as positive, set flag\n",
    "\n",
    "`Sorting`\n",
    "\n",
    "Most sorting algorithms in standard libraries are comparison algorithms. No comparison algorithm can have a more optimal worst-case running time than $O(n \\log n)$.\n",
    "\n",
    "* Selection Sort: $O(n^2)$ running time\n",
    "* Insertion Sort: $O(n^2)$ running time for average and worst cases, $O(n)$ for best case.\n",
    "* Quicksort: best case: $O(n \\log n)$, worse case: $O(n^2)$, average case: $O(n \\log n)$\n",
    "* Merge Sort: best, average, and worst-case run time: $O(n \\log n)$, but requires $O(n)$ additional memory."
   ]
  },
  {
   "cell_type": "markdown",
   "metadata": {},
   "source": [
    "### <a id='example'></a>2.2 求解示例"
   ]
  },
  {
   "cell_type": "markdown",
   "metadata": {},
   "source": [
    "<!-- /TOC -->\n",
    "\n",
    "#### 2.2.1 斐波那契数列\n",
    "\n",
    "**数列定义: **\n",
    "\n",
    "$f_0 = f_1 = 1$\n",
    "\n",
    "$f_n = f_{n-1} + f_{n-2}$\n",
    "\n",
    "#### 根据定义\n",
    "\n",
    "速度很慢，另外(暴栈注意！⚠️️） `O(fibonacci n)`\n",
    "\n",
    "```python\n",
    "def fibonacci(n):\n",
    "    if n == 0 or n == 1:\n",
    "        return 1\n",
    "    return fibonacci(n - 1) + fibonacci(n - 2)\n",
    "```\n",
    "\n",
    "#### 线性时间的\n",
    "\n",
    "**状态/循环**\n",
    "\n",
    "```python\n",
    "def fibonacci(n):\n",
    "    a, b = 1, 1\n",
    "    for _ in range(n):\n",
    "       a, b = b, a + b\n",
    "    return a\n",
    "```\n",
    "\n",
    "**递归**\n",
    "\n",
    "```python\n",
    "def fibonacci(n):\n",
    "    def fib(n_, s):\n",
    "        if n_ == 0:\n",
    "            return s[0]\n",
    "        a, b = s\n",
    "        return fib(n_ - 1, (b, a + b))\n",
    "    return fib(n, (1, 1))\n",
    "```\n",
    "\n",
    "**map(zipwith)**\n",
    "\n",
    "```python\n",
    "def fibs():\n",
    "    yield 1\n",
    "    fibs_ = fibs()\n",
    "    yield next(fibs_)\n",
    "    fibs__ = fibs()\n",
    "    for fib in map(lambad a, b: a + b, fibs_, fibs__):\n",
    "        yield fib\n",
    "        \n",
    "        \n",
    "def fibonacci(n):\n",
    "    fibs_ = fibs()\n",
    "    for _ in range(n):\n",
    "        next(fibs_)\n",
    "    return next(fibs)\n",
    "```\n",
    "\n",
    "#### Logarithmic\n",
    "\n",
    "**矩阵**\n",
    "\n",
    "```python\n",
    "import numpy as np\n",
    "def fibonacci(n):\n",
    "    return (np.matrix([[0, 1], [1, 1]]) ** n)[1, 1]\n",
    "```\n",
    "\n",
    "**不是矩阵**\n",
    "\n",
    "```python\n",
    "def fibonacci(n):\n",
    "    def fib(n):\n",
    "        if n == 0:\n",
    "            return (1, 1)\n",
    "        elif n == 1:\n",
    "            return (1, 2)\n",
    "        a, b = fib(n // 2 - 1)\n",
    "        c = a + b\n",
    "        if n % 2 == 0:\n",
    "            return (a * a + b * b, c * c - a * a)\n",
    "        return (c * c - a * a, b * b + c * c)\n",
    "    return fib(n)[0]\n",
    "```"
   ]
  },
  {
   "cell_type": "markdown",
   "metadata": {},
   "source": [
    "<!-- /TOC -->\n",
    "\n",
    "#### 2.2.2 青蛙跳台阶问题\n",
    "\n",
    "一只青蛙要跳上n层高的台阶，一次能跳一级，也可以跳两级，请问这只青蛙有多少种跳上这个n层台阶的方法？\n",
    "\n",
    "方法1：递归\n",
    "\n",
    "设青蛙跳上n级台阶有f(n)种方法，把这n种方法分为两大类，第一种最后一次跳了一级台阶，这类共有f(n-1)种，第二种最后一次跳了两级台阶，这种方法共有f(n-2)种，则得出递推公式f(n)=f(n-1) + f(n-2),显然f(1)=1,f(2)=2，这种方法虽然代码简单，但效率低，会超出时间上限\n",
    "\n",
    "```python\n",
    "class Solution:\n",
    "    def climbStairs(self,n):\n",
    "        if n ==1:\n",
    "            return 1\n",
    "        elif n==2:\n",
    "            return 2\n",
    "        else:\n",
    "            return self.climbStairs(n-1) + self.climbStairs(n-2)\n",
    "```\n",
    "\n",
    "方法2：用循环来代替递归\n",
    "\n",
    "```python\n",
    "class Solution:\n",
    "    def climbStairs(self,n):\n",
    "        if n==1 or n==2:\n",
    "            return n\n",
    "        a,b,c = 1,2,3\n",
    "        for i in range(3,n+1):\n",
    "            c = a+b\n",
    "            a = b\n",
    "            b = c\n",
    "        return c\n",
    "```"
   ]
  }
 ],
 "metadata": {
  "kernelspec": {
   "display_name": "Python 3",
   "language": "python",
   "name": "python3"
  },
  "language_info": {
   "codemirror_mode": {
    "name": "ipython",
    "version": 3
   },
   "file_extension": ".py",
   "mimetype": "text/x-python",
   "name": "python",
   "nbconvert_exporter": "python",
   "pygments_lexer": "ipython3",
   "version": "3.7.3"
  }
 },
 "nbformat": 4,
 "nbformat_minor": 2
}
