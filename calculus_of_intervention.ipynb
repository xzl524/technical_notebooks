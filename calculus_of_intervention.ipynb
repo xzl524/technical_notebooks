{
 "cells": [
  {
   "cell_type": "markdown",
   "metadata": {},
   "source": [
    "## 因果贝叶斯网络（Causal Bayesian Network）的干预公式"
   ]
  },
  {
   "cell_type": "markdown",
   "metadata": {},
   "source": [
    "1 基本干预公式：$p(x_1,...,x_n|\\hat x_i')=\\prod_{j\\neq i}p(x_j|pa_j)$"
   ]
  },
  {
   "cell_type": "markdown",
   "metadata": {},
   "source": [
    "2 直接原因调整公式：$P(y|\\hat x_i')=\\sum_{pa_i}P(y|x_i',pa_i)P(pa_i)$\n",
    "\n",
    "证明：\n",
    "\n",
    "\\begin{align}\n",
    "P(x_1,...,x_n|\\hat x_i')\n",
    "&=\\prod_{j\\neq i}P(x_j|pa_j)\\\\\n",
    "&=\\frac {P(x_1,...,x_n)}{P(x_i'|pa_i)}\\\\\n",
    "&=P(x_1,...,x_n|x_i',pa_i)P(pa_i)\\\\\n",
    "\\end{align}\n",
    "\n",
    "设所有变量可简化为不相交的四组：$x_i,pa_i,y, w$，则：\n",
    "\n",
    "\\begin{align}\n",
    "P(y|\\hat x_i')\n",
    "&=\\sum_{w,pa_i,x_i}P(x_1,...,x_n|\\hat x_i')\\\\\n",
    "&=\\sum_{w,pa_i}P(x_1,...,x_n|x_i',pa_i)P(pa_i)\\\\\n",
    "&=\\sum_{w,pa_i}P(x_i,pa_i,w,y|x_i',pa_i)P(pa_i)\\\\\n",
    "&=\\sum_{pa_i}P(x_i,pa_i,y|x_i',pa_i)P(pa_i)\\\\\n",
    "&=\\sum_{pa_i}P(y|x_i',pa_i)P(pa_i)\n",
    "\\end{align}"
   ]
  },
  {
   "cell_type": "markdown",
   "metadata": {},
   "source": [
    "3 后门调整公式：$P(y|\\hat x)=\\sum_zP(y|x,z)P(z)$\n",
    "\n",
    "其中变量组$Z$满足后门标准：\n",
    "* $Z$中没有$X$的后代节点\n",
    "* $Z$阻断了所有从$X$到$Y$且含有指向$X$箭头的路径\n",
    "\n",
    "证明：由后门标准可得：\n",
    "* ($X\\perp\\!\\!\\!\\perp Z |T$)，其中$T$为$X$的直接原因组\n",
    "* ($Y\\perp\\!\\!\\!\\perp T |X, Z$)\n",
    "\n",
    "由直接调整公式得：\n",
    "\n",
    "$$P(y|\\hat x)=\\sum_{T}P(y|x,T)P(T)$$\n",
    "\n",
    "所以：\n",
    "\\begin{align}\n",
    "P(y|\\hat x)\n",
    "&=\\sum_{T}P(y|x,T)P(T)\\\\\n",
    "&=\\sum_{T}P(T)\\sum_Z P(y|x,T,Z)P(Z|x,T)\\\\\n",
    "&=\\sum_{T}P(T)\\sum_Z P(y|x,Z)P(Z|T)\\\\\n",
    "&=\\sum_Z P(y|x,Z)\\sum_{T}P(T)P(Z|T)\\\\\n",
    "&=\\sum_z P(y|x,z)P(z)\n",
    "\\end{align}"
   ]
  },
  {
   "cell_type": "markdown",
   "metadata": {},
   "source": [
    "4 前门调整公式：$P(y|\\hat x)=\\sum_zP(z|x)\\sum_{x'}P(y|x',z)P(x')$\n",
    "\n",
    "其中变量组$Z$满足前门标准：\n",
    "* $Z$阻断了所有从$X$到$Y$的直接路径\n",
    "* 从$X$到$Z$没有未被阻断的后门路径\n",
    "* 所有从$Z$到$Y$的后门路径都被$X$阻断\n",
    "\n",
    "\n",
    "证明：由前门标准可得：\n",
    "* ($Z\\perp\\!\\!\\!\\perp U |X$)，其中$U$为$X$和$Y$之间的未被测量到的共因变量\n",
    "* ($Y\\perp\\!\\!\\!\\perp X |Z, U$)\n",
    "\n",
    "\\begin{align}\n",
    "P(y|\\hat x)\n",
    "&=\\sum_{z}\\sum_{u}P(y,z,u|\\hat x)\\\\\n",
    "&=\\sum_{z}\\sum_{u}P(y|z,u)P(z|x)P(u)\\\\\n",
    "&=\\sum_{z}P(z|x)\\sum_{u}P(y|z,u)P(u)\\\\\n",
    "&=\\sum_{z}P(z|x)\\sum_{u}P(y|x,z,u)\\sum_{x'}P(u|x')P(x')\\\\\n",
    "&=\\sum_{z}P(z|x)\\sum_{u}P(y|x,z,u)\\sum_{x'}P(u|x',z)P(x')\\\\\n",
    "&=\\sum_{z}P(z|x)\\sum_{x'}P(x')\\sum_{u}P(y|x',z,u)P(u|x',z)\\\\\n",
    "&=\\sum_{z}P(z|x)\\sum_{x'}P(x')P(y|x',z)\\\\\n",
    "\\end{align}"
   ]
  },
  {
   "cell_type": "markdown",
   "metadata": {},
   "source": [
    "5 干预运算规则\n",
    "\n",
    "* 规则1（添加/删除观察条件）：$(Y\\perp Z|X,W)_{G_\\overline X}\\Rightarrow P(y|\\hat x,z,w)=P(y|\\hat x,w)$\n",
    "* 规则2（交换干预/观察条件）： $(Y\\perp Z|X,W)_{G_{\\overline X \\underline Z}}\\Rightarrow P(y|\\hat x,\\hat z,w)=P(y|\\hat x,z,w)$\n",
    "* 规则3（添加/删除干预条件）： $(Y\\perp Z|X,W)_{G_{\\bar X \\overline {Z(W)}}}\\Rightarrow P(y|\\hat x,\\hat z,w)=P(y|\\hat x,w)$，其中 Z(W)为节点组Z的子集，且不能是W的祖先节点。\n",
    "\n",
    "证明：\n",
    "\n",
    "规则1：$(Y\\perp Z|X,W)_{G_\\overline X}\\Rightarrow(Y\\perp Z|X,W)_{G_\\hat X}\\Rightarrow (Y\\perp Z|X,W)_{P_\\hat X}$，即：\n",
    "\n",
    "$$P(y|\\hat x,z,w)=P(y|\\hat x,w)$$\n",
    "\n",
    "规则2：设T为Z的直接原因组成的集合，$(Y\\perp Z|X,W)_{G_{\\overline X \\underline Z}}\\Rightarrow(Y\\perp T|X,W,Z)_{G_\\overline X}\\Rightarrow(Y\\perp T|X,W,Z)_{G_\\hat X}\\Rightarrow(Y\\perp T|X,W,Z)_{P_\\hat X}$，即：\n",
    "\n",
    "$$P(y|\\hat x, z, w, T)=P(y|\\hat x, z, w)$$\n",
    "\n",
    "又由直接原因调整公式得：\n",
    "\n",
    "$$P(y,w|\\hat x,\\hat z)=\\sum_T P(y,w|\\hat x,z',T)P(T)$$\n",
    "$$P(w|\\hat x,\\hat z)=\\sum_T P(w|\\hat x,z',T)P(T)$$\n",
    "\n",
    "所以：\n",
    "\n",
    "\\begin{align}\n",
    "P(y|\\hat x, \\hat z, w)\n",
    "&=\\frac{P(y,w|\\hat x,\\hat z)}{P(w|\\hat x,\\hat z)}\\\\\n",
    "&=\\frac{\\sum_T P(y,w|\\hat x,z',T)P(T)}{\\sum_T P(w|\\hat x,z',T)P(T)}\\\\\n",
    "&=\\frac{\\sum_T P(y|\\hat x,z',T,w)P(w|\\hat x, z',T)P(T)}{\\sum_T P(w|\\hat x,z',T)P(T)}\\\\\n",
    "&=\\frac{P(y|\\hat x,z',w)\\sum_T P(w|\\hat x, z',T)P(T)}{\\sum_T P(w|\\hat x,z',T)P(T)}\\\\\n",
    "&=P(y|\\hat x,z',w)\\\\\n",
    "\\end{align}\n",
    "\n",
    "规则3：因$X$与结论无关，为书写简化，以下证明先忽略掉$X$。\n",
    "\n",
    "设$Z(W)=Z_1$，$Z-Z(W)=Z_2$，$T_1$为$Z_1$的直接原因组成的集合，$T_2$为$Z_2$的直接原因组成的集合。\n",
    "\n",
    "$(Y\\perp Z|W)_{G_{\\overline {Z(W)}}}\\Rightarrow(Y\\perp Z_2,T_2|W)_{G_{\\overline Z_1}}\\Rightarrow(Y\\perp Z_2,T_2|W)_{G_{\\hat Z_1}}\\Rightarrow(Y\\perp Z_2,T_2|W)_{P_{\\hat Z_1}}$，即：\n",
    "\n",
    "$$P(y|\\hat z_1, z_2, w, T_2)=P(y|\\hat z_1, w)$$\n",
    "\n",
    "又$W$不会是$Z_1$的后代节点，所以$(W\\perp Z_1|T_1)_G\\Rightarrow (W\\perp Z_1|T_1)_P$，即：\n",
    "$$P(w|z_1,T_1)=P(w|T_1)$$\n",
    "\n",
    "又由$(Y\\perp Z|W)_{G_{\\overline {Z_1}}}$知，$Z_1$到$Y$的前门路径被阻断，而后门路径又被$T_1$阻断，所以$(Y\\perp Z_1|W,T_1)_G\\Rightarrow (Y\\perp Z_1|W,T_1)_P$，即：\n",
    "$$P(y|z_1,w,T_1)=P(y|w,T_1)$$\n",
    "\n",
    "所以：\n",
    "\n",
    "\\begin{align}\n",
    "P(y|\\hat z_1, \\hat z_2, w)\n",
    "&=\\frac{P(y,w|\\hat z_1,\\hat z_2)}{P(w|\\hat z_1,\\hat z_2)}\\\\\n",
    "&=\\frac{\\sum_{T_2} P(y|\\hat z_1,z_2',w,T_2)P(w|\\hat z_1, z_2', T_2)P(T_2|\\hat z_1)}{\\sum_{T_2} P(w|\\hat z_1, z_2', T_2)P(T_2|\\hat z_1)}\\\\\n",
    "&=\\frac{P(y|\\hat z_1,w)\\sum_{T_2} P(w|\\hat z_1, z_2', T_2)P(T_2|\\hat z_1)}{\\sum_{T_2} P(w|\\hat z_1, z_2', T_2)P(T_2|\\hat z_1)}\\\\\n",
    "&=P(y|\\hat z_1,w)\\\\\n",
    "&=\\frac{\\sum_{T_1} P(y|z_1',w,T_1)P(w|z_1', T_1)P(T_1)}{\\sum_{T_1} P(w|z_1', T_1)P(T_1)}\\\\\n",
    "&=\\frac{\\sum_{T_1} P(y|w,T_1)P(w|T_1)P(T_1)}{\\sum_{T_1} P(w|T_1)P(T_1)}\\\\\n",
    "&=\\frac{P(y,w)}{P(w)}\\\\\n",
    "&=P(y|w)\\\\\n",
    "\\end{align}\n",
    "\n",
    "所以：\n",
    "\n",
    "$$P(y|\\hat x, \\hat z, w)=P(y|\\hat x, w)$$"
   ]
  },
  {
   "cell_type": "markdown",
   "metadata": {},
   "source": [
    "#### 参考资料\n",
    "\n",
    "[1] Pearl, J. (2009). Causality. Cambridge: Cambridge University Press. doi:10.1017/CBO9780511803161"
   ]
  }
 ],
 "metadata": {
  "kernelspec": {
   "display_name": "Python 3",
   "language": "python",
   "name": "python3"
  },
  "language_info": {
   "codemirror_mode": {
    "name": "ipython",
    "version": 3
   },
   "file_extension": ".py",
   "mimetype": "text/x-python",
   "name": "python",
   "nbconvert_exporter": "python",
   "pygments_lexer": "ipython3",
   "version": "3.7.3"
  }
 },
 "nbformat": 4,
 "nbformat_minor": 2
}
